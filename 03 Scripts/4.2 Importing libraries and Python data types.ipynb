{
 "cells": [
  {
   "cell_type": "markdown",
   "id": "70f0b430",
   "metadata": {},
   "source": [
    "# 01. Importing Library"
   ]
  },
  {
   "cell_type": "code",
   "execution_count": null,
   "id": "5c28daa6",
   "metadata": {},
   "outputs": [],
   "source": [
    "#Import Libraries\n",
    "import pandas as pd\n",
    "import numpy as np\n",
    "import os"
   ]
  },
  {
   "cell_type": "markdown",
   "id": "fef2efe7",
   "metadata": {},
   "source": [
    "# 02. Python Data Types"
   ]
  },
  {
   "cell_type": "markdown",
   "id": "65aba4e7",
   "metadata": {},
   "source": [
    "### 4.2 Question 7"
   ]
  },
  {
   "cell_type": "code",
   "execution_count": 1,
   "id": "88cd96e4",
   "metadata": {},
   "outputs": [
    {
     "data": {
      "text/plain": [
       "100"
      ]
     },
     "execution_count": 1,
     "metadata": {},
     "output_type": "execute_result"
    }
   ],
   "source": [
    "a = 25\n",
    "b = 75\n",
    "a + b"
   ]
  },
  {
   "cell_type": "code",
   "execution_count": 2,
   "id": "3728d907",
   "metadata": {},
   "outputs": [
    {
     "data": {
      "text/plain": [
       "100"
      ]
     },
     "execution_count": 2,
     "metadata": {},
     "output_type": "execute_result"
    }
   ],
   "source": [
    "a * 4"
   ]
  },
  {
   "cell_type": "code",
   "execution_count": 4,
   "id": "accfd03e",
   "metadata": {},
   "outputs": [
    {
     "data": {
      "text/plain": [
       "100"
      ]
     },
     "execution_count": 4,
     "metadata": {},
     "output_type": "execute_result"
    }
   ],
   "source": [
    "175 - b"
   ]
  },
  {
   "cell_type": "markdown",
   "id": "fbd65b43",
   "metadata": {},
   "source": [
    "### 4.2 Question 8"
   ]
  },
  {
   "cell_type": "code",
   "execution_count": 6,
   "id": "455fe40a",
   "metadata": {},
   "outputs": [
    {
     "data": {
      "text/plain": [
       "2.48574144486692"
      ]
     },
     "execution_count": 6,
     "metadata": {},
     "output_type": "execute_result"
    }
   ],
   "source": [
    "c = 5.23\n",
    "d = 2.104\n",
    "c / d"
   ]
  },
  {
   "cell_type": "markdown",
   "id": "e7ee2b7d",
   "metadata": {},
   "source": [
    "### 4.2 Question 9"
   ]
  },
  {
   "cell_type": "code",
   "execution_count": 7,
   "id": "9c7c5b01",
   "metadata": {},
   "outputs": [
    {
     "data": {
      "text/plain": [
       "'cheesecake'"
      ]
     },
     "execution_count": 7,
     "metadata": {},
     "output_type": "execute_result"
    }
   ],
   "source": [
    "e = 'cheese'\n",
    "f = 'cake'\n",
    "e+f"
   ]
  },
  {
   "cell_type": "markdown",
   "id": "1dc583f1",
   "metadata": {},
   "source": [
    "### 4.2 Question 10"
   ]
  },
  {
   "cell_type": "code",
   "execution_count": 9,
   "id": "e4bf6dc4",
   "metadata": {},
   "outputs": [
    {
     "data": {
      "text/plain": [
       "'Hi, Sam! Would you like to have some cheesecake?'"
      ]
     },
     "execution_count": 9,
     "metadata": {},
     "output_type": "execute_result"
    }
   ],
   "source": [
    "g = 'Hi, Sam! '\n",
    "h = 'Would '\n",
    "i = 'you '\n",
    "j = 'like '\n",
    "k = 'to '\n",
    "l = 'have '\n",
    "m = 'some '\n",
    "n = '?'\n",
    "sentence1 = g\n",
    "sentence2 = h + i + j + k + l + m + e + f + n\n",
    "sentence1 + sentence2"
   ]
  },
  {
   "cell_type": "markdown",
   "id": "742b4236",
   "metadata": {},
   "source": [
    "### 4.2 Bonus Task"
   ]
  },
  {
   "cell_type": "code",
   "execution_count": 12,
   "id": "f7e2e30c",
   "metadata": {},
   "outputs": [
    {
     "name": "stdout",
     "output_type": "stream",
     "text": [
      "tart tart tart tart tart tart tart tart tart tart tart tart tart tart tart tart tart tart tart tart tart tart tart tart tart tart tart tart tart tart tart tart tart tart tart tart tart tart tart tart tart tart tart tart tart tart tart tart tart tart tart tart tart tart tart tart tart tart tart tart tart tart tart tart tart tart tart tart tart tart tart tart tart tart tart tart tart tart tart tart tart tart tart tart tart tart tart tart tart tart tart tart tart tart tart tart tart tart tart tart \n"
     ]
    }
   ],
   "source": [
    "z = 'tart ' \n",
    "print (z * 100)"
   ]
  },
  {
   "cell_type": "code",
   "execution_count": null,
   "id": "493947ec",
   "metadata": {},
   "outputs": [],
   "source": []
  }
 ],
 "metadata": {
  "kernelspec": {
   "display_name": "Python 3 (ipykernel)",
   "language": "python",
   "name": "python3"
  },
  "language_info": {
   "codemirror_mode": {
    "name": "ipython",
    "version": 3
   },
   "file_extension": ".py",
   "mimetype": "text/x-python",
   "name": "python",
   "nbconvert_exporter": "python",
   "pygments_lexer": "ipython3",
   "version": "3.11.5"
  }
 },
 "nbformat": 4,
 "nbformat_minor": 5
}
